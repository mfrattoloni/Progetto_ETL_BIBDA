{
 "cells": [
  {
   "cell_type": "code",
   "execution_count": 1,
   "metadata": {},
   "outputs": [],
   "source": [
    "import requests\n",
    "import bs4\n",
    "import csv\n",
    "from tqdm import tqdm_notebook as tqdm\n",
    "import json\n",
    "import pprint"
   ]
  },
  {
   "cell_type": "code",
   "execution_count": 2,
   "metadata": {},
   "outputs": [],
   "source": [
    "provincia= \"Agrigento\"\n",
    "webpage= f\"https://www.immobiliare.it/vendita-case/{provincia}-provincia/?criterio=rilevanza\""
   ]
  },
  {
   "cell_type": "code",
   "execution_count": 3,
   "metadata": {},
   "outputs": [
    {
     "name": "stdout",
     "output_type": "stream",
     "text": [
      "Status: 200\n"
     ]
    }
   ],
   "source": [
    "response = requests.get(webpage)\n",
    "print(\"Status: \" + str(response.status_code))"
   ]
  },
  {
   "cell_type": "code",
   "execution_count": 4,
   "metadata": {},
   "outputs": [],
   "source": [
    "province = [\"Agrigento\",\"Alessandria\",\"Ancona\",\"Aosta\",\"Arezzo\",\"Ascoli-Piceno\",\"Asti\",\"Avellino\",\"Bari\",\"Barletta-Andria-Trani\",\"Belluno\",\"Benevento\",\"Bergamo\",\"Biella\",\"Bologna\",\"Bolzano\",\"Brescia\",\"Brindisi\",\"Cagliari\",\"Caltanissetta\",\"Campobasso\",\"Carbonia-Iglesias\",\"Caserta\",\"Catania\",\"Catanzaro\",\"Chieti\",\"Como\",\"Cosenza\",\"Cremona\",\"Crotone\",\"Cuneo\",\"Enna\",\"Fermo\",\"Ferrara\",\"Firenze\",\"Foggia\",\"Forli-Cesena\",\"Frosinone\",\"Genova\",\"Gorizia\",\"Grosseto\",\"Imperia\",\"Isernia\",\"La-Spezia\",\"Aquila\",\"Latina\",\"Lecce\",\"Lecco\",\"Livorno\",\"Lodi\",\"Lucca\",\"Macerata\",\"Mantova\",\"Massa-Carrara\",\"Matera\",\"Messina\",\"Milano\",\"Modena\",\"Monza-Brianza\",\"Napoli\",\"Novara\",\"Nuoro\",\"Olbia-Tempio\",\"Oristano\",\"Padova\",\"Palermo\",\"Parma\",\"Pavia\",\"Perugia\",\"Pesaro-Urbino\",\"Pescara\",\"Piacenza\",\"Pisa\",\"Pistoia\",\"Pordenone\",\"Potenza\",\"Prato\",\"Ragusa\",\"Ravenna\",\"Reggio-Calabria\",\"Reggio-Emilia\",\"Rieti\",\"Rimini\",\"Roma\",\"Rovigo\",\"Salerno\",\"Medio-Campidano\",\"Sassari\",\"Savona\",\"Siena\",\"Siracusa\",\"Sondrio\",\"Taranto\",\"Teramo\",\"Terni\",\"Torino\",\"Ogliastra\",\"Trapani\",\"Trento\",\"Treviso\",\"Trieste\",\"Udine\",\"Varese\",\"Venezia\",\"Verbano-Cusio-Ossola\",\"Vercelli\",\"Verona\",\"Vibo-Valentia\",\"Vicenza\",\"Viterbo\"]"
   ]
  },
  {
   "cell_type": "code",
   "execution_count": 5,
   "metadata": {},
   "outputs": [],
   "source": [
    "def parse_annuncio(annuncio):\n",
    "    titolo = annuncio.find(\"p\",class_=\"titolo\").text\n",
    "    #\n",
    "    # estraiamo il campo data-id che rappresenta l'id dell'annuncio\n",
    "    #\n",
    "    #\n",
    "    annuncio_id = annuncio[\"data-id\"]\n",
    "    url = annuncio.find(\"p\",class_=\"titolo\").find(\"a\")[\"href\"]\n",
    "    elemento_prezzo = annuncio.select(\"li.lif__item\")[0].text\n",
    "    prezzo=elemento_prezzo if len(elemento_prezzo) > 0 else \"\"\n",
    "    descrizione_breve = annuncio.find(\"div\",class_=\"descrizione\").text\n",
    "    #\n",
    "    # ritorniamo il record\n",
    "    #\n",
    "    return {'id': annuncio_id, 'titolo': titolo, 'link': url, \n",
    "                         'prezzo': prezzo, 'descrizione_breve': descrizione_breve}"
   ]
  },
  {
   "cell_type": "code",
   "execution_count": null,
   "metadata": {
    "scrolled": true
   },
   "outputs": [
    {
     "name": "stdout",
     "output_type": "stream",
     "text": [
      "https://www.immobiliare.it/affitto-case/Agrigento-provincia/?criterio=rilevanza\n",
      "5\n"
     ]
    },
    {
     "data": {
      "application/vnd.jupyter.widget-view+json": {
       "model_id": "44537814448f4a12bbac32efe5c9dd43",
       "version_major": 2,
       "version_minor": 0
      },
      "text/plain": [
       "HBox(children=(IntProgress(value=0, max=5), HTML(value='')))"
      ]
     },
     "metadata": {},
     "output_type": "display_data"
    },
    {
     "name": "stdout",
     "output_type": "stream",
     "text": [
      "89\n",
      "https://www.immobiliare.it/affitto-case/Alessandria-provincia/?criterio=rilevanza\n",
      "27\n"
     ]
    },
    {
     "data": {
      "application/vnd.jupyter.widget-view+json": {
       "model_id": "894c13a452e94a5ebe58c9869b643481",
       "version_major": 2,
       "version_minor": 0
      },
      "text/plain": [
       "HBox(children=(IntProgress(value=0, max=27), HTML(value='')))"
      ]
     },
     "metadata": {},
     "output_type": "display_data"
    },
    {
     "name": "stdout",
     "output_type": "stream",
     "text": [
      "649\n",
      "https://www.immobiliare.it/affitto-case/Ancona-provincia/?criterio=rilevanza\n",
      "24\n"
     ]
    },
    {
     "data": {
      "application/vnd.jupyter.widget-view+json": {
       "model_id": "3663d77088f44e8e80667a0334347b92",
       "version_major": 2,
       "version_minor": 0
      },
      "text/plain": [
       "HBox(children=(IntProgress(value=0, max=24), HTML(value='')))"
      ]
     },
     "metadata": {},
     "output_type": "display_data"
    },
    {
     "name": "stdout",
     "output_type": "stream",
     "text": [
      "1174\n",
      "https://www.immobiliare.it/affitto-case/Aosta-provincia/?criterio=rilevanza\n",
      "13\n"
     ]
    },
    {
     "data": {
      "application/vnd.jupyter.widget-view+json": {
       "model_id": "abfa0059709e40d98cbc0e9c838ca006",
       "version_major": 2,
       "version_minor": 0
      },
      "text/plain": [
       "HBox(children=(IntProgress(value=0, max=13), HTML(value='')))"
      ]
     },
     "metadata": {},
     "output_type": "display_data"
    },
    {
     "name": "stdout",
     "output_type": "stream",
     "text": [
      "1450\n",
      "https://www.immobiliare.it/affitto-case/Arezzo-provincia/?criterio=rilevanza\n",
      "13\n"
     ]
    },
    {
     "data": {
      "application/vnd.jupyter.widget-view+json": {
       "model_id": "e114ff339216461e8befcfecdba6c447",
       "version_major": 2,
       "version_minor": 0
      },
      "text/plain": [
       "HBox(children=(IntProgress(value=0, max=13), HTML(value='')))"
      ]
     },
     "metadata": {},
     "output_type": "display_data"
    },
    {
     "name": "stdout",
     "output_type": "stream",
     "text": [
      "1720\n",
      "https://www.immobiliare.it/affitto-case/Ascoli-Piceno-provincia/?criterio=rilevanza\n",
      "7\n"
     ]
    },
    {
     "data": {
      "application/vnd.jupyter.widget-view+json": {
       "model_id": "45d04270e9124337a76e2029e002d70f",
       "version_major": 2,
       "version_minor": 0
      },
      "text/plain": [
       "HBox(children=(IntProgress(value=0, max=7), HTML(value='')))"
      ]
     },
     "metadata": {},
     "output_type": "display_data"
    },
    {
     "name": "stdout",
     "output_type": "stream",
     "text": [
      "1845\n",
      "https://www.immobiliare.it/affitto-case/Asti-provincia/?criterio=rilevanza\n",
      "16\n"
     ]
    },
    {
     "data": {
      "application/vnd.jupyter.widget-view+json": {
       "model_id": "a75e276d6139474997d3e4161fb28d45",
       "version_major": 2,
       "version_minor": 0
      },
      "text/plain": [
       "HBox(children=(IntProgress(value=0, max=16), HTML(value='')))"
      ]
     },
     "metadata": {},
     "output_type": "display_data"
    },
    {
     "name": "stdout",
     "output_type": "stream",
     "text": [
      "2187\n",
      "https://www.immobiliare.it/affitto-case/Avellino-provincia/?criterio=rilevanza\n",
      "11\n"
     ]
    },
    {
     "data": {
      "application/vnd.jupyter.widget-view+json": {
       "model_id": "ac26480487b24ec693137d7d30c38319",
       "version_major": 2,
       "version_minor": 0
      },
      "text/plain": [
       "HBox(children=(IntProgress(value=0, max=11), HTML(value='')))"
      ]
     },
     "metadata": {},
     "output_type": "display_data"
    },
    {
     "name": "stdout",
     "output_type": "stream",
     "text": [
      "2414\n",
      "https://www.immobiliare.it/affitto-case/Bari-provincia/?criterio=rilevanza\n",
      "22\n"
     ]
    },
    {
     "data": {
      "application/vnd.jupyter.widget-view+json": {
       "model_id": "5f52f5534b8e4fa9a8784fbf4db50729",
       "version_major": 2,
       "version_minor": 0
      },
      "text/plain": [
       "HBox(children=(IntProgress(value=0, max=22), HTML(value='')))"
      ]
     },
     "metadata": {},
     "output_type": "display_data"
    },
    {
     "name": "stdout",
     "output_type": "stream",
     "text": [
      "2826\n",
      "https://www.immobiliare.it/affitto-case/Barletta-Andria-Trani-provincia/?criterio=rilevanza\n",
      "5\n"
     ]
    },
    {
     "data": {
      "application/vnd.jupyter.widget-view+json": {
       "model_id": "45a40910d0604868a601d91f61fea913",
       "version_major": 2,
       "version_minor": 0
      },
      "text/plain": [
       "HBox(children=(IntProgress(value=0, max=5), HTML(value='')))"
      ]
     },
     "metadata": {},
     "output_type": "display_data"
    },
    {
     "name": "stdout",
     "output_type": "stream",
     "text": [
      "2898\n",
      "https://www.immobiliare.it/affitto-case/Belluno-provincia/?criterio=rilevanza\n",
      "7\n"
     ]
    },
    {
     "data": {
      "application/vnd.jupyter.widget-view+json": {
       "model_id": "32287d5ea55f40678ada2bbc4085a2b5",
       "version_major": 2,
       "version_minor": 0
      },
      "text/plain": [
       "HBox(children=(IntProgress(value=0, max=7), HTML(value='')))"
      ]
     },
     "metadata": {},
     "output_type": "display_data"
    },
    {
     "name": "stdout",
     "output_type": "stream",
     "text": [
      "3036\n",
      "https://www.immobiliare.it/affitto-case/Benevento-provincia/?criterio=rilevanza\n",
      "5\n"
     ]
    },
    {
     "data": {
      "application/vnd.jupyter.widget-view+json": {
       "model_id": "d7cf4386d69c4b8ca889b34bb9a51c7c",
       "version_major": 2,
       "version_minor": 0
      },
      "text/plain": [
       "HBox(children=(IntProgress(value=0, max=5), HTML(value='')))"
      ]
     },
     "metadata": {},
     "output_type": "display_data"
    },
    {
     "name": "stdout",
     "output_type": "stream",
     "text": [
      "3122\n",
      "https://www.immobiliare.it/affitto-case/Bergamo-provincia/?criterio=rilevanza\n",
      "47\n"
     ]
    },
    {
     "data": {
      "application/vnd.jupyter.widget-view+json": {
       "model_id": "aad59eb788f34b6e8e2bb4c1afe93398",
       "version_major": 2,
       "version_minor": 0
      },
      "text/plain": [
       "HBox(children=(IntProgress(value=0, max=47), HTML(value='')))"
      ]
     },
     "metadata": {},
     "output_type": "display_data"
    },
    {
     "name": "stdout",
     "output_type": "stream",
     "text": [
      "4110\n",
      "https://www.immobiliare.it/affitto-case/Biella-provincia/?criterio=rilevanza\n",
      "19\n"
     ]
    },
    {
     "data": {
      "application/vnd.jupyter.widget-view+json": {
       "model_id": "54c28e567ecc4091b869d94682a437bd",
       "version_major": 2,
       "version_minor": 0
      },
      "text/plain": [
       "HBox(children=(IntProgress(value=0, max=19), HTML(value='')))"
      ]
     },
     "metadata": {},
     "output_type": "display_data"
    },
    {
     "name": "stdout",
     "output_type": "stream",
     "text": [
      "4535\n",
      "https://www.immobiliare.it/affitto-case/Bologna-provincia/?criterio=rilevanza\n",
      "45\n"
     ]
    },
    {
     "data": {
      "application/vnd.jupyter.widget-view+json": {
       "model_id": "3f6ae4b67720421d9aa2fe4956f075f2",
       "version_major": 2,
       "version_minor": 0
      },
      "text/plain": [
       "HBox(children=(IntProgress(value=0, max=45), HTML(value='')))"
      ]
     },
     "metadata": {},
     "output_type": "display_data"
    },
    {
     "name": "stdout",
     "output_type": "stream",
     "text": [
      "5487\n",
      "https://www.immobiliare.it/affitto-case/Bolzano-provincia/?criterio=rilevanza\n",
      "5\n"
     ]
    },
    {
     "data": {
      "application/vnd.jupyter.widget-view+json": {
       "model_id": "3792436d67b14072a27b869a33841048",
       "version_major": 2,
       "version_minor": 0
      },
      "text/plain": [
       "HBox(children=(IntProgress(value=0, max=5), HTML(value='')))"
      ]
     },
     "metadata": {},
     "output_type": "display_data"
    },
    {
     "name": "stdout",
     "output_type": "stream",
     "text": [
      "5577\n",
      "https://www.immobiliare.it/affitto-case/Brescia-provincia/?criterio=rilevanza\n",
      "49\n"
     ]
    },
    {
     "data": {
      "application/vnd.jupyter.widget-view+json": {
       "model_id": "f84fc7f6c5e549188db2d1c1bd1586b9",
       "version_major": 2,
       "version_minor": 0
      },
      "text/plain": [
       "HBox(children=(IntProgress(value=0, max=49), HTML(value='')))"
      ]
     },
     "metadata": {},
     "output_type": "display_data"
    },
    {
     "name": "stdout",
     "output_type": "stream",
     "text": [
      "6613\n",
      "https://www.immobiliare.it/affitto-case/Brindisi-provincia/?criterio=rilevanza\n",
      "11\n"
     ]
    },
    {
     "data": {
      "application/vnd.jupyter.widget-view+json": {
       "model_id": "2fd348db18264ad1ac7a71b6c5a1ae0a",
       "version_major": 2,
       "version_minor": 0
      },
      "text/plain": [
       "HBox(children=(IntProgress(value=0, max=11), HTML(value='')))"
      ]
     },
     "metadata": {},
     "output_type": "display_data"
    },
    {
     "name": "stdout",
     "output_type": "stream",
     "text": [
      "6831\n",
      "https://www.immobiliare.it/affitto-case/Cagliari-provincia/?criterio=rilevanza\n",
      "6\n"
     ]
    },
    {
     "data": {
      "application/vnd.jupyter.widget-view+json": {
       "model_id": "f222a6d31a76485786324eaf9aaf0310",
       "version_major": 2,
       "version_minor": 0
      },
      "text/plain": [
       "HBox(children=(IntProgress(value=0, max=6), HTML(value='')))"
      ]
     },
     "metadata": {},
     "output_type": "display_data"
    },
    {
     "name": "stdout",
     "output_type": "stream",
     "text": [
      "6927\n",
      "https://www.immobiliare.it/affitto-case/Caltanissetta-provincia/?criterio=rilevanza\n",
      "1\n"
     ]
    },
    {
     "data": {
      "application/vnd.jupyter.widget-view+json": {
       "model_id": "e506e8ea8ccc41f285ced347b9521201",
       "version_major": 2,
       "version_minor": 0
      },
      "text/plain": [
       "HBox(children=(IntProgress(value=0, max=1), HTML(value='')))"
      ]
     },
     "metadata": {},
     "output_type": "display_data"
    },
    {
     "name": "stdout",
     "output_type": "stream",
     "text": [
      "6930\n",
      "https://www.immobiliare.it/affitto-case/Campobasso-provincia/?criterio=rilevanza\n",
      "5\n"
     ]
    },
    {
     "data": {
      "application/vnd.jupyter.widget-view+json": {
       "model_id": "e1f7b86c57fe49548d975ba7e40e04a3",
       "version_major": 2,
       "version_minor": 0
      },
      "text/plain": [
       "HBox(children=(IntProgress(value=0, max=5), HTML(value='')))"
      ]
     },
     "metadata": {},
     "output_type": "display_data"
    },
    {
     "name": "stdout",
     "output_type": "stream",
     "text": [
      "7023\n",
      "https://www.immobiliare.it/affitto-case/Carbonia-Iglesias-provincia/?criterio=rilevanza\n",
      "3\n"
     ]
    },
    {
     "data": {
      "application/vnd.jupyter.widget-view+json": {
       "model_id": "e6a286c8842b4361ad47e46304eb1bd2",
       "version_major": 2,
       "version_minor": 0
      },
      "text/plain": [
       "HBox(children=(IntProgress(value=0, max=3), HTML(value='')))"
      ]
     },
     "metadata": {},
     "output_type": "display_data"
    },
    {
     "name": "stdout",
     "output_type": "stream",
     "text": [
      "7077\n",
      "https://www.immobiliare.it/affitto-case/Caserta-provincia/?criterio=rilevanza\n",
      "28\n"
     ]
    },
    {
     "data": {
      "application/vnd.jupyter.widget-view+json": {
       "model_id": "f2b9f0c3db374a50b183d85bdeef813c",
       "version_major": 2,
       "version_minor": 0
      },
      "text/plain": [
       "HBox(children=(IntProgress(value=0, max=28), HTML(value='')))"
      ]
     },
     "metadata": {},
     "output_type": "display_data"
    },
    {
     "name": "stdout",
     "output_type": "stream",
     "text": [
      "7709\n",
      "https://www.immobiliare.it/affitto-case/Catania-provincia/?criterio=rilevanza\n",
      "29\n"
     ]
    },
    {
     "data": {
      "application/vnd.jupyter.widget-view+json": {
       "model_id": "895327f28b7f4021a74ec0459d2fd5dc",
       "version_major": 2,
       "version_minor": 0
      },
      "text/plain": [
       "HBox(children=(IntProgress(value=0, max=29), HTML(value='')))"
      ]
     },
     "metadata": {},
     "output_type": "display_data"
    },
    {
     "name": "stdout",
     "output_type": "stream",
     "text": [
      "8248\n",
      "https://www.immobiliare.it/affitto-case/Catanzaro-provincia/?criterio=rilevanza\n",
      "22\n"
     ]
    },
    {
     "data": {
      "application/vnd.jupyter.widget-view+json": {
       "model_id": "41376c4e6b314410ab763ff421dd6c35",
       "version_major": 2,
       "version_minor": 0
      },
      "text/plain": [
       "HBox(children=(IntProgress(value=0, max=22), HTML(value='')))"
      ]
     },
     "metadata": {},
     "output_type": "display_data"
    },
    {
     "name": "stdout",
     "output_type": "stream",
     "text": [
      "8726\n",
      "https://www.immobiliare.it/affitto-case/Chieti-provincia/?criterio=rilevanza\n",
      "15\n"
     ]
    },
    {
     "data": {
      "application/vnd.jupyter.widget-view+json": {
       "model_id": "f744f38ac1c34ada8a21f3adcb12307a",
       "version_major": 2,
       "version_minor": 0
      },
      "text/plain": [
       "HBox(children=(IntProgress(value=0, max=15), HTML(value='')))"
      ]
     },
     "metadata": {},
     "output_type": "display_data"
    },
    {
     "name": "stdout",
     "output_type": "stream",
     "text": [
      "9028\n",
      "https://www.immobiliare.it/affitto-case/Como-provincia/?criterio=rilevanza\n",
      "31\n"
     ]
    },
    {
     "data": {
      "application/vnd.jupyter.widget-view+json": {
       "model_id": "1ff87656c6ee4ee5983d3ff109f67102",
       "version_major": 2,
       "version_minor": 0
      },
      "text/plain": [
       "HBox(children=(IntProgress(value=0, max=31), HTML(value='')))"
      ]
     },
     "metadata": {},
     "output_type": "display_data"
    },
    {
     "name": "stdout",
     "output_type": "stream",
     "text": [
      "9672\n",
      "https://www.immobiliare.it/affitto-case/Cosenza-provincia/?criterio=rilevanza\n",
      "12\n"
     ]
    },
    {
     "data": {
      "application/vnd.jupyter.widget-view+json": {
       "model_id": "6d803db5e9c245e6a37cdf9c0696ef90",
       "version_major": 2,
       "version_minor": 0
      },
      "text/plain": [
       "HBox(children=(IntProgress(value=0, max=12), HTML(value='')))"
      ]
     },
     "metadata": {},
     "output_type": "display_data"
    },
    {
     "name": "stdout",
     "output_type": "stream",
     "text": [
      "9878\n",
      "https://www.immobiliare.it/affitto-case/Cremona-provincia/?criterio=rilevanza\n",
      "18\n"
     ]
    },
    {
     "data": {
      "application/vnd.jupyter.widget-view+json": {
       "model_id": "d2b3223df2d0447fb1d594a9fe67a4c0",
       "version_major": 2,
       "version_minor": 0
      },
      "text/plain": [
       "HBox(children=(IntProgress(value=0, max=18), HTML(value='')))"
      ]
     },
     "metadata": {},
     "output_type": "display_data"
    },
    {
     "name": "stdout",
     "output_type": "stream",
     "text": [
      "10267\n",
      "https://www.immobiliare.it/affitto-case/Crotone-provincia/?criterio=rilevanza\n",
      "1\n"
     ]
    },
    {
     "data": {
      "application/vnd.jupyter.widget-view+json": {
       "model_id": "c97b66fabe0c4a519cd1a6d92a9d06cb",
       "version_major": 2,
       "version_minor": 0
      },
      "text/plain": [
       "HBox(children=(IntProgress(value=0, max=1), HTML(value='')))"
      ]
     },
     "metadata": {},
     "output_type": "display_data"
    },
    {
     "name": "stdout",
     "output_type": "stream",
     "text": [
      "10274\n",
      "https://www.immobiliare.it/affitto-case/Cuneo-provincia/?criterio=rilevanza\n",
      "49\n"
     ]
    },
    {
     "data": {
      "application/vnd.jupyter.widget-view+json": {
       "model_id": "98f25585078144248d5baab6c639cb45",
       "version_major": 2,
       "version_minor": 0
      },
      "text/plain": [
       "HBox(children=(IntProgress(value=0, max=49), HTML(value='')))"
      ]
     },
     "metadata": {},
     "output_type": "display_data"
    },
    {
     "name": "stdout",
     "output_type": "stream",
     "text": [
      "11367\n",
      "https://www.immobiliare.it/affitto-case/Enna-provincia/?criterio=rilevanza\n",
      "1\n"
     ]
    },
    {
     "data": {
      "application/vnd.jupyter.widget-view+json": {
       "model_id": "64908668e00e466296a90b730bcfe0a6",
       "version_major": 2,
       "version_minor": 0
      },
      "text/plain": [
       "HBox(children=(IntProgress(value=0, max=1), HTML(value='')))"
      ]
     },
     "metadata": {},
     "output_type": "display_data"
    },
    {
     "name": "stdout",
     "output_type": "stream",
     "text": [
      "11370\n",
      "https://www.immobiliare.it/affitto-case/Fermo-provincia/?criterio=rilevanza\n",
      "4\n"
     ]
    },
    {
     "data": {
      "application/vnd.jupyter.widget-view+json": {
       "model_id": "e689eba98cd14047860b124021557e46",
       "version_major": 2,
       "version_minor": 0
      },
      "text/plain": [
       "HBox(children=(IntProgress(value=0, max=4), HTML(value='')))"
      ]
     },
     "metadata": {},
     "output_type": "display_data"
    },
    {
     "name": "stdout",
     "output_type": "stream",
     "text": [
      "11428\n",
      "https://www.immobiliare.it/affitto-case/Ferrara-provincia/?criterio=rilevanza\n",
      "21\n"
     ]
    },
    {
     "data": {
      "application/vnd.jupyter.widget-view+json": {
       "model_id": "bb7e55ace8154ffa8799dbddb3f8f07f",
       "version_major": 2,
       "version_minor": 0
      },
      "text/plain": [
       "HBox(children=(IntProgress(value=0, max=21), HTML(value='')))"
      ]
     },
     "metadata": {},
     "output_type": "display_data"
    },
    {
     "name": "stdout",
     "output_type": "stream",
     "text": [
      "11893\n",
      "https://www.immobiliare.it/affitto-case/Firenze-provincia/?criterio=rilevanza\n",
      "83\n"
     ]
    },
    {
     "data": {
      "application/vnd.jupyter.widget-view+json": {
       "model_id": "44346bcee5bc42dcacfe8c47edaaa5f6",
       "version_major": 2,
       "version_minor": 0
      },
      "text/plain": [
       "HBox(children=(IntProgress(value=0, max=83), HTML(value='')))"
      ]
     },
     "metadata": {},
     "output_type": "display_data"
    },
    {
     "name": "stdout",
     "output_type": "stream",
     "text": [
      "13752\n",
      "https://www.immobiliare.it/affitto-case/Foggia-provincia/?criterio=rilevanza\n",
      "9\n"
     ]
    },
    {
     "data": {
      "application/vnd.jupyter.widget-view+json": {
       "model_id": "1cbca2bae6814fdf88dcdd095bc82f7c",
       "version_major": 2,
       "version_minor": 0
      },
      "text/plain": [
       "HBox(children=(IntProgress(value=0, max=9), HTML(value='')))"
      ]
     },
     "metadata": {},
     "output_type": "display_data"
    },
    {
     "name": "stdout",
     "output_type": "stream",
     "text": [
      "13905\n",
      "https://www.immobiliare.it/affitto-case/Forli-Cesena-provincia/?criterio=rilevanza\n",
      "12\n"
     ]
    },
    {
     "data": {
      "application/vnd.jupyter.widget-view+json": {
       "model_id": "3266223540344509b5d7a4db3e578aa5",
       "version_major": 2,
       "version_minor": 0
      },
      "text/plain": [
       "HBox(children=(IntProgress(value=0, max=12), HTML(value='')))"
      ]
     },
     "metadata": {},
     "output_type": "display_data"
    },
    {
     "name": "stdout",
     "output_type": "stream",
     "text": [
      "14171\n",
      "https://www.immobiliare.it/affitto-case/Frosinone-provincia/?criterio=rilevanza\n",
      "29\n"
     ]
    },
    {
     "data": {
      "application/vnd.jupyter.widget-view+json": {
       "model_id": "435f39eb233f4d5590f9d9ddc9d0ab45",
       "version_major": 2,
       "version_minor": 0
      },
      "text/plain": [
       "HBox(children=(IntProgress(value=0, max=29), HTML(value='')))"
      ]
     },
     "metadata": {},
     "output_type": "display_data"
    },
    {
     "name": "stdout",
     "output_type": "stream",
     "text": [
      "14819\n",
      "https://www.immobiliare.it/affitto-case/Genova-provincia/?criterio=rilevanza\n",
      "114\n"
     ]
    },
    {
     "data": {
      "application/vnd.jupyter.widget-view+json": {
       "model_id": "bfc83b14efce431e9d85c443c579c9af",
       "version_major": 2,
       "version_minor": 0
      },
      "text/plain": [
       "HBox(children=(IntProgress(value=0, max=114), HTML(value='')))"
      ]
     },
     "metadata": {},
     "output_type": "display_data"
    },
    {
     "name": "stdout",
     "output_type": "stream",
     "text": [
      "17390\n",
      "https://www.immobiliare.it/affitto-case/Gorizia-provincia/?criterio=rilevanza\n",
      "4\n"
     ]
    },
    {
     "data": {
      "application/vnd.jupyter.widget-view+json": {
       "model_id": "ad9f1b70f4434c418bc722734b7303a3",
       "version_major": 2,
       "version_minor": 0
      },
      "text/plain": [
       "HBox(children=(IntProgress(value=0, max=4), HTML(value='')))"
      ]
     },
     "metadata": {},
     "output_type": "display_data"
    },
    {
     "name": "stdout",
     "output_type": "stream",
     "text": [
      "17457\n",
      "https://www.immobiliare.it/affitto-case/Grosseto-provincia/?criterio=rilevanza\n",
      "31\n"
     ]
    },
    {
     "data": {
      "application/vnd.jupyter.widget-view+json": {
       "model_id": "ad26486198b148d697fe75d3cfebd509",
       "version_major": 2,
       "version_minor": 0
      },
      "text/plain": [
       "HBox(children=(IntProgress(value=0, max=31), HTML(value='')))"
      ]
     },
     "metadata": {},
     "output_type": "display_data"
    },
    {
     "name": "stdout",
     "output_type": "stream",
     "text": [
      "18153\n",
      "https://www.immobiliare.it/affitto-case/Imperia-provincia/?criterio=rilevanza\n",
      "24\n"
     ]
    },
    {
     "data": {
      "application/vnd.jupyter.widget-view+json": {
       "model_id": "00c3e2823833458a86608e858222647d",
       "version_major": 2,
       "version_minor": 0
      },
      "text/plain": [
       "HBox(children=(IntProgress(value=0, max=24), HTML(value='')))"
      ]
     },
     "metadata": {},
     "output_type": "display_data"
    },
    {
     "name": "stdout",
     "output_type": "stream",
     "text": [
      "18665\n",
      "https://www.immobiliare.it/affitto-case/Isernia-provincia/?criterio=rilevanza\n",
      "2\n"
     ]
    },
    {
     "data": {
      "application/vnd.jupyter.widget-view+json": {
       "model_id": "480f1b48390145e9bc59daf0d6ab710d",
       "version_major": 2,
       "version_minor": 0
      },
      "text/plain": [
       "HBox(children=(IntProgress(value=0, max=2), HTML(value='')))"
      ]
     },
     "metadata": {},
     "output_type": "display_data"
    },
    {
     "name": "stdout",
     "output_type": "stream",
     "text": [
      "18700\n",
      "https://www.immobiliare.it/affitto-case/La-Spezia-provincia/?criterio=rilevanza\n",
      "24\n"
     ]
    },
    {
     "data": {
      "application/vnd.jupyter.widget-view+json": {
       "model_id": "9b68ff38931a47178d5f1c11b014ae17",
       "version_major": 2,
       "version_minor": 0
      },
      "text/plain": [
       "HBox(children=(IntProgress(value=0, max=24), HTML(value='')))"
      ]
     },
     "metadata": {},
     "output_type": "display_data"
    },
    {
     "name": "stdout",
     "output_type": "stream",
     "text": [
      "19231\n",
      "https://www.immobiliare.it/affitto-case/Aquila-provincia/?criterio=rilevanza\n",
      "22\n"
     ]
    },
    {
     "data": {
      "application/vnd.jupyter.widget-view+json": {
       "model_id": "27187941a9714e82a3bdaa33c9ce44e6",
       "version_major": 2,
       "version_minor": 0
      },
      "text/plain": [
       "HBox(children=(IntProgress(value=0, max=22), HTML(value='')))"
      ]
     },
     "metadata": {},
     "output_type": "display_data"
    },
    {
     "name": "stdout",
     "output_type": "stream",
     "text": [
      "19648\n",
      "https://www.immobiliare.it/affitto-case/Latina-provincia/?criterio=rilevanza\n",
      "32\n"
     ]
    },
    {
     "data": {
      "application/vnd.jupyter.widget-view+json": {
       "model_id": "2cfa3caf82114d8481b153777488b345",
       "version_major": 2,
       "version_minor": 0
      },
      "text/plain": [
       "HBox(children=(IntProgress(value=0, max=32), HTML(value='')))"
      ]
     },
     "metadata": {},
     "output_type": "display_data"
    },
    {
     "name": "stdout",
     "output_type": "stream",
     "text": [
      "20297\n",
      "https://www.immobiliare.it/affitto-case/Lecce-provincia/?criterio=rilevanza\n",
      "16\n"
     ]
    },
    {
     "data": {
      "application/vnd.jupyter.widget-view+json": {
       "model_id": "d5a69badb1ec4bdbb5af2c9dc34558dd",
       "version_major": 2,
       "version_minor": 0
      },
      "text/plain": [
       "HBox(children=(IntProgress(value=0, max=16), HTML(value='')))"
      ]
     },
     "metadata": {},
     "output_type": "display_data"
    },
    {
     "name": "stdout",
     "output_type": "stream",
     "text": [
      "20583\n",
      "https://www.immobiliare.it/affitto-case/Lecco-provincia/?criterio=rilevanza\n",
      "24\n"
     ]
    },
    {
     "data": {
      "application/vnd.jupyter.widget-view+json": {
       "model_id": "c7fb56b6c9b647dea43f1f1e03e1ce74",
       "version_major": 2,
       "version_minor": 0
      },
      "text/plain": [
       "HBox(children=(IntProgress(value=0, max=24), HTML(value='')))"
      ]
     },
     "metadata": {},
     "output_type": "display_data"
    },
    {
     "name": "stdout",
     "output_type": "stream",
     "text": [
      "21112\n",
      "https://www.immobiliare.it/affitto-case/Livorno-provincia/?criterio=rilevanza\n",
      "26\n"
     ]
    },
    {
     "data": {
      "application/vnd.jupyter.widget-view+json": {
       "model_id": "9f076d12be77417dbe28ce7bed42a318",
       "version_major": 2,
       "version_minor": 0
      },
      "text/plain": [
       "HBox(children=(IntProgress(value=0, max=26), HTML(value='')))"
      ]
     },
     "metadata": {},
     "output_type": "display_data"
    },
    {
     "name": "stdout",
     "output_type": "stream",
     "text": [
      "21718\n",
      "https://www.immobiliare.it/affitto-case/Lodi-provincia/?criterio=rilevanza\n",
      "12\n"
     ]
    },
    {
     "data": {
      "application/vnd.jupyter.widget-view+json": {
       "model_id": "02a4d332993340f5891086473c16cdb4",
       "version_major": 2,
       "version_minor": 0
      },
      "text/plain": [
       "HBox(children=(IntProgress(value=0, max=12), HTML(value='')))"
      ]
     },
     "metadata": {},
     "output_type": "display_data"
    },
    {
     "name": "stdout",
     "output_type": "stream",
     "text": [
      "21966\n",
      "https://www.immobiliare.it/affitto-case/Lucca-provincia/?criterio=rilevanza\n",
      "60\n"
     ]
    },
    {
     "data": {
      "application/vnd.jupyter.widget-view+json": {
       "model_id": "85d389550ece43708687e7c9ff03db9b",
       "version_major": 2,
       "version_minor": 0
      },
      "text/plain": [
       "HBox(children=(IntProgress(value=0, max=60), HTML(value='')))"
      ]
     },
     "metadata": {},
     "output_type": "display_data"
    },
    {
     "name": "stdout",
     "output_type": "stream",
     "text": [
      "23337\n",
      "https://www.immobiliare.it/affitto-case/Macerata-provincia/?criterio=rilevanza\n",
      "6\n"
     ]
    },
    {
     "data": {
      "application/vnd.jupyter.widget-view+json": {
       "model_id": "8d6e6e4567b84a9c89982a66c39395f6",
       "version_major": 2,
       "version_minor": 0
      },
      "text/plain": [
       "HBox(children=(IntProgress(value=0, max=6), HTML(value='')))"
      ]
     },
     "metadata": {},
     "output_type": "display_data"
    },
    {
     "name": "stdout",
     "output_type": "stream",
     "text": [
      "23433\n",
      "https://www.immobiliare.it/affitto-case/Mantova-provincia/?criterio=rilevanza\n",
      "29\n"
     ]
    },
    {
     "data": {
      "application/vnd.jupyter.widget-view+json": {
       "model_id": "7db32d2d489f414f82d2cc7fcf33b8aa",
       "version_major": 2,
       "version_minor": 0
      },
      "text/plain": [
       "HBox(children=(IntProgress(value=0, max=29), HTML(value='')))"
      ]
     },
     "metadata": {},
     "output_type": "display_data"
    },
    {
     "name": "stdout",
     "output_type": "stream",
     "text": [
      "24108\n",
      "https://www.immobiliare.it/affitto-case/Massa-Carrara-provincia/?criterio=rilevanza\n",
      "14\n"
     ]
    },
    {
     "data": {
      "application/vnd.jupyter.widget-view+json": {
       "model_id": "bb5de3e248e94267b37ba1066ee5b578",
       "version_major": 2,
       "version_minor": 0
      },
      "text/plain": [
       "HBox(children=(IntProgress(value=0, max=14), HTML(value='')))"
      ]
     },
     "metadata": {},
     "output_type": "display_data"
    },
    {
     "name": "stdout",
     "output_type": "stream",
     "text": [
      "24413\n",
      "https://www.immobiliare.it/affitto-case/Matera-provincia/?criterio=rilevanza\n",
      "4\n"
     ]
    },
    {
     "data": {
      "application/vnd.jupyter.widget-view+json": {
       "model_id": "d326e0a9867b4c91aad63bfb82ee4e71",
       "version_major": 2,
       "version_minor": 0
      },
      "text/plain": [
       "HBox(children=(IntProgress(value=0, max=4), HTML(value='')))"
      ]
     },
     "metadata": {},
     "output_type": "display_data"
    },
    {
     "name": "stdout",
     "output_type": "stream",
     "text": [
      "24486\n",
      "https://www.immobiliare.it/affitto-case/Messina-provincia/?criterio=rilevanza\n",
      "23\n"
     ]
    },
    {
     "data": {
      "application/vnd.jupyter.widget-view+json": {
       "model_id": "4bc3b24e3dfb475d9d7f3c88201c83da",
       "version_major": 2,
       "version_minor": 0
      },
      "text/plain": [
       "HBox(children=(IntProgress(value=0, max=23), HTML(value='')))"
      ]
     },
     "metadata": {},
     "output_type": "display_data"
    },
    {
     "name": "stdout",
     "output_type": "stream",
     "text": [
      "24917\n",
      "https://www.immobiliare.it/affitto-case/Milano-provincia/?criterio=rilevanza\n",
      "343\n"
     ]
    },
    {
     "data": {
      "application/vnd.jupyter.widget-view+json": {
       "model_id": "9a0b6ad11b9e4d83b567159195a10486",
       "version_major": 2,
       "version_minor": 0
      },
      "text/plain": [
       "HBox(children=(IntProgress(value=0, max=343), HTML(value='')))"
      ]
     },
     "metadata": {},
     "output_type": "display_data"
    },
    {
     "name": "stdout",
     "output_type": "stream",
     "text": [
      "32022\n",
      "https://www.immobiliare.it/affitto-case/Modena-provincia/?criterio=rilevanza\n",
      "18\n"
     ]
    },
    {
     "data": {
      "application/vnd.jupyter.widget-view+json": {
       "model_id": "6eb0e881f486447d976b73b7f135378e",
       "version_major": 2,
       "version_minor": 0
      },
      "text/plain": [
       "HBox(children=(IntProgress(value=0, max=18), HTML(value='')))"
      ]
     },
     "metadata": {},
     "output_type": "display_data"
    },
    {
     "name": "stdout",
     "output_type": "stream",
     "text": [
      "32407\n",
      "https://www.immobiliare.it/affitto-case/Monza-Brianza-provincia/?criterio=rilevanza\n",
      "34\n"
     ]
    },
    {
     "data": {
      "application/vnd.jupyter.widget-view+json": {
       "model_id": "2cf0da28ef5244d1b4c0203abe94d91c",
       "version_major": 2,
       "version_minor": 0
      },
      "text/plain": [
       "HBox(children=(IntProgress(value=0, max=34), HTML(value='')))"
      ]
     },
     "metadata": {},
     "output_type": "display_data"
    },
    {
     "name": "stdout",
     "output_type": "stream",
     "text": [
      "33132\n",
      "https://www.immobiliare.it/affitto-case/Napoli-provincia/?criterio=rilevanza\n",
      "170\n"
     ]
    },
    {
     "data": {
      "application/vnd.jupyter.widget-view+json": {
       "model_id": "f64ef662403f43308e372de992f9fd25",
       "version_major": 2,
       "version_minor": 0
      },
      "text/plain": [
       "HBox(children=(IntProgress(value=0, max=170), HTML(value='')))"
      ]
     },
     "metadata": {},
     "output_type": "display_data"
    },
    {
     "name": "stdout",
     "output_type": "stream",
     "text": [
      "36841\n",
      "https://www.immobiliare.it/affitto-case/Novara-provincia/?criterio=rilevanza\n",
      "28\n"
     ]
    },
    {
     "data": {
      "application/vnd.jupyter.widget-view+json": {
       "model_id": "48f028dac40a4c34bdc81ea7d1a25bca",
       "version_major": 2,
       "version_minor": 0
      },
      "text/plain": [
       "HBox(children=(IntProgress(value=0, max=28), HTML(value='')))"
      ]
     },
     "metadata": {},
     "output_type": "display_data"
    },
    {
     "name": "stdout",
     "output_type": "stream",
     "text": [
      "37479\n",
      "https://www.immobiliare.it/affitto-case/Nuoro-provincia/?criterio=rilevanza\n",
      "2\n"
     ]
    },
    {
     "data": {
      "application/vnd.jupyter.widget-view+json": {
       "model_id": "9b1a175733c247f9812786da63fb7dfe",
       "version_major": 2,
       "version_minor": 0
      },
      "text/plain": [
       "HBox(children=(IntProgress(value=0, max=2), HTML(value='')))"
      ]
     },
     "metadata": {},
     "output_type": "display_data"
    },
    {
     "name": "stdout",
     "output_type": "stream",
     "text": [
      "37497\n",
      "https://www.immobiliare.it/affitto-case/Olbia-Tempio-provincia/?criterio=rilevanza\n",
      "21\n"
     ]
    },
    {
     "data": {
      "application/vnd.jupyter.widget-view+json": {
       "model_id": "3ad5fd67f4274a4c945b011861655045",
       "version_major": 2,
       "version_minor": 0
      },
      "text/plain": [
       "HBox(children=(IntProgress(value=0, max=21), HTML(value='')))"
      ]
     },
     "metadata": {},
     "output_type": "display_data"
    },
    {
     "name": "stdout",
     "output_type": "stream",
     "text": [
      "37896\n",
      "https://www.immobiliare.it/affitto-case/Oristano-provincia/?criterio=rilevanza\n",
      "1\n"
     ]
    },
    {
     "data": {
      "application/vnd.jupyter.widget-view+json": {
       "model_id": "0f6b3a66064247ba995a95cddfd7bece",
       "version_major": 2,
       "version_minor": 0
      },
      "text/plain": [
       "HBox(children=(IntProgress(value=0, max=1), HTML(value='')))"
      ]
     },
     "metadata": {},
     "output_type": "display_data"
    },
    {
     "name": "stdout",
     "output_type": "stream",
     "text": [
      "37897\n",
      "https://www.immobiliare.it/affitto-case/Padova-provincia/?criterio=rilevanza\n",
      "40\n"
     ]
    },
    {
     "data": {
      "application/vnd.jupyter.widget-view+json": {
       "model_id": "fcd7d84844a24fdf8aad19e25a8ef633",
       "version_major": 2,
       "version_minor": 0
      },
      "text/plain": [
       "HBox(children=(IntProgress(value=0, max=40), HTML(value='')))"
      ]
     },
     "metadata": {},
     "output_type": "display_data"
    },
    {
     "name": "stdout",
     "output_type": "stream",
     "text": [
      "38784\n",
      "https://www.immobiliare.it/affitto-case/Palermo-provincia/?criterio=rilevanza\n",
      "72\n"
     ]
    },
    {
     "data": {
      "application/vnd.jupyter.widget-view+json": {
       "model_id": "a30a7e3a071f4fad830725daf796dcb8",
       "version_major": 2,
       "version_minor": 0
      },
      "text/plain": [
       "HBox(children=(IntProgress(value=0, max=72), HTML(value='')))"
      ]
     },
     "metadata": {},
     "output_type": "display_data"
    },
    {
     "name": "stdout",
     "output_type": "stream",
     "text": [
      "40330\n",
      "https://www.immobiliare.it/affitto-case/Parma-provincia/?criterio=rilevanza\n",
      "21\n"
     ]
    },
    {
     "data": {
      "application/vnd.jupyter.widget-view+json": {
       "model_id": "1307a40b022347909724eeabe31d5106",
       "version_major": 2,
       "version_minor": 0
      },
      "text/plain": [
       "HBox(children=(IntProgress(value=0, max=21), HTML(value='')))"
      ]
     },
     "metadata": {},
     "output_type": "display_data"
    },
    {
     "name": "stdout",
     "output_type": "stream",
     "text": [
      "40798\n",
      "https://www.immobiliare.it/affitto-case/Pavia-provincia/?criterio=rilevanza\n",
      "33\n"
     ]
    },
    {
     "data": {
      "application/vnd.jupyter.widget-view+json": {
       "model_id": "ddf124d6cccd447eb96ec8fa1d6eb8a3",
       "version_major": 2,
       "version_minor": 0
      },
      "text/plain": [
       "HBox(children=(IntProgress(value=0, max=33), HTML(value='')))"
      ]
     },
     "metadata": {},
     "output_type": "display_data"
    },
    {
     "name": "stdout",
     "output_type": "stream",
     "text": [
      "41511\n",
      "https://www.immobiliare.it/affitto-case/Perugia-provincia/?criterio=rilevanza\n",
      "63\n"
     ]
    },
    {
     "data": {
      "application/vnd.jupyter.widget-view+json": {
       "model_id": "9364a317061343bc9c5c4dc1e5333d1a",
       "version_major": 2,
       "version_minor": 0
      },
      "text/plain": [
       "HBox(children=(IntProgress(value=0, max=63), HTML(value='')))"
      ]
     },
     "metadata": {},
     "output_type": "display_data"
    },
    {
     "name": "stdout",
     "output_type": "stream",
     "text": [
      "42961\n",
      "https://www.immobiliare.it/affitto-case/Pesaro-Urbino-provincia/?criterio=rilevanza\n",
      "8\n"
     ]
    },
    {
     "data": {
      "application/vnd.jupyter.widget-view+json": {
       "model_id": "184b4ad5d8f04391b367cc580ac2249e",
       "version_major": 2,
       "version_minor": 0
      },
      "text/plain": [
       "HBox(children=(IntProgress(value=0, max=8), HTML(value='')))"
      ]
     },
     "metadata": {},
     "output_type": "display_data"
    },
    {
     "name": "stdout",
     "output_type": "stream",
     "text": [
      "43109\n",
      "https://www.immobiliare.it/affitto-case/Pescara-provincia/?criterio=rilevanza\n",
      "28\n"
     ]
    },
    {
     "data": {
      "application/vnd.jupyter.widget-view+json": {
       "model_id": "52279279694140869020f797d6adf489",
       "version_major": 2,
       "version_minor": 0
      },
      "text/plain": [
       "HBox(children=(IntProgress(value=0, max=28), HTML(value='')))"
      ]
     },
     "metadata": {},
     "output_type": "display_data"
    },
    {
     "name": "stdout",
     "output_type": "stream",
     "text": [
      "43724\n",
      "https://www.immobiliare.it/affitto-case/Piacenza-provincia/?criterio=rilevanza\n",
      "20\n"
     ]
    },
    {
     "data": {
      "application/vnd.jupyter.widget-view+json": {
       "model_id": "9ac50a55e1f942a3a15dab4e612e53b1",
       "version_major": 2,
       "version_minor": 0
      },
      "text/plain": [
       "HBox(children=(IntProgress(value=0, max=20), HTML(value='')))"
      ]
     },
     "metadata": {},
     "output_type": "display_data"
    },
    {
     "name": "stdout",
     "output_type": "stream",
     "text": [
      "44177\n",
      "https://www.immobiliare.it/affitto-case/Pisa-provincia/?criterio=rilevanza\n",
      "68\n"
     ]
    },
    {
     "data": {
      "application/vnd.jupyter.widget-view+json": {
       "model_id": "973c84a91d5e439ca08f83fad3f05798",
       "version_major": 2,
       "version_minor": 0
      },
      "text/plain": [
       "HBox(children=(IntProgress(value=0, max=68), HTML(value='')))"
      ]
     },
     "metadata": {},
     "output_type": "display_data"
    },
    {
     "name": "stdout",
     "output_type": "stream",
     "text": [
      "45765\n",
      "https://www.immobiliare.it/affitto-case/Pistoia-provincia/?criterio=rilevanza\n",
      "11\n"
     ]
    },
    {
     "data": {
      "application/vnd.jupyter.widget-view+json": {
       "model_id": "09de9e2e717d47d4bf235cfc4e10f456",
       "version_major": 2,
       "version_minor": 0
      },
      "text/plain": [
       "HBox(children=(IntProgress(value=0, max=11), HTML(value='')))"
      ]
     },
     "metadata": {},
     "output_type": "display_data"
    },
    {
     "name": "stdout",
     "output_type": "stream",
     "text": [
      "46014\n",
      "https://www.immobiliare.it/affitto-case/Pordenone-provincia/?criterio=rilevanza\n",
      "2\n"
     ]
    },
    {
     "data": {
      "application/vnd.jupyter.widget-view+json": {
       "model_id": "4a8fbd80805c43aa945d38e318e990bf",
       "version_major": 2,
       "version_minor": 0
      },
      "text/plain": [
       "HBox(children=(IntProgress(value=0, max=2), HTML(value='')))"
      ]
     },
     "metadata": {},
     "output_type": "display_data"
    },
    {
     "name": "stdout",
     "output_type": "stream",
     "text": [
      "46056\n",
      "https://www.immobiliare.it/affitto-case/Potenza-provincia/?criterio=rilevanza\n",
      "3\n"
     ]
    },
    {
     "data": {
      "application/vnd.jupyter.widget-view+json": {
       "model_id": "fab40a0fe20d4b0f8862cb04a25dd272",
       "version_major": 2,
       "version_minor": 0
      },
      "text/plain": [
       "HBox(children=(IntProgress(value=0, max=3), HTML(value='')))"
      ]
     },
     "metadata": {},
     "output_type": "display_data"
    },
    {
     "name": "stdout",
     "output_type": "stream",
     "text": [
      "46081\n",
      "https://www.immobiliare.it/affitto-case/Prato-provincia/?criterio=rilevanza\n",
      "5\n"
     ]
    },
    {
     "data": {
      "application/vnd.jupyter.widget-view+json": {
       "model_id": "1cb6b93f1ad14f41874cd69f58be2416",
       "version_major": 2,
       "version_minor": 0
      },
      "text/plain": [
       "HBox(children=(IntProgress(value=0, max=5), HTML(value='')))"
      ]
     },
     "metadata": {},
     "output_type": "display_data"
    },
    {
     "name": "stdout",
     "output_type": "stream",
     "text": [
      "46178\n",
      "https://www.immobiliare.it/affitto-case/Ragusa-provincia/?criterio=rilevanza\n",
      "3\n"
     ]
    },
    {
     "data": {
      "application/vnd.jupyter.widget-view+json": {
       "model_id": "e510f1ef70cb47849c556dfc002dfdda",
       "version_major": 2,
       "version_minor": 0
      },
      "text/plain": [
       "HBox(children=(IntProgress(value=0, max=3), HTML(value='')))"
      ]
     },
     "metadata": {},
     "output_type": "display_data"
    },
    {
     "name": "stdout",
     "output_type": "stream",
     "text": [
      "46215\n",
      "https://www.immobiliare.it/affitto-case/Ravenna-provincia/?criterio=rilevanza\n",
      "18\n"
     ]
    },
    {
     "data": {
      "application/vnd.jupyter.widget-view+json": {
       "model_id": "74210c2ffd454c00a337c094485e821e",
       "version_major": 2,
       "version_minor": 0
      },
      "text/plain": [
       "HBox(children=(IntProgress(value=0, max=18), HTML(value='')))"
      ]
     },
     "metadata": {},
     "output_type": "display_data"
    },
    {
     "name": "stdout",
     "output_type": "stream",
     "text": [
      "46621\n",
      "https://www.immobiliare.it/affitto-case/Reggio-Calabria-provincia/?criterio=rilevanza\n",
      "10\n"
     ]
    },
    {
     "data": {
      "application/vnd.jupyter.widget-view+json": {
       "model_id": "060dac644fa54467b76def517e4cbad1",
       "version_major": 2,
       "version_minor": 0
      },
      "text/plain": [
       "HBox(children=(IntProgress(value=0, max=10), HTML(value='')))"
      ]
     },
     "metadata": {},
     "output_type": "display_data"
    },
    {
     "name": "stdout",
     "output_type": "stream",
     "text": [
      "46767\n",
      "https://www.immobiliare.it/affitto-case/Reggio-Emilia-provincia/?criterio=rilevanza\n",
      "11\n"
     ]
    },
    {
     "data": {
      "application/vnd.jupyter.widget-view+json": {
       "model_id": "0766c13df7954df8be8e30dc862d656a",
       "version_major": 2,
       "version_minor": 0
      },
      "text/plain": [
       "HBox(children=(IntProgress(value=0, max=11), HTML(value='')))"
      ]
     },
     "metadata": {},
     "output_type": "display_data"
    },
    {
     "name": "stdout",
     "output_type": "stream",
     "text": [
      "47000\n",
      "https://www.immobiliare.it/affitto-case/Rieti-provincia/?criterio=rilevanza\n",
      "7\n"
     ]
    },
    {
     "data": {
      "application/vnd.jupyter.widget-view+json": {
       "model_id": "b662c1236599453e9191c502270c1904",
       "version_major": 2,
       "version_minor": 0
      },
      "text/plain": [
       "HBox(children=(IntProgress(value=0, max=7), HTML(value='')))"
      ]
     },
     "metadata": {},
     "output_type": "display_data"
    },
    {
     "name": "stdout",
     "output_type": "stream",
     "text": [
      "47114\n",
      "https://www.immobiliare.it/affitto-case/Rimini-provincia/?criterio=rilevanza\n",
      "18\n"
     ]
    },
    {
     "data": {
      "application/vnd.jupyter.widget-view+json": {
       "model_id": "30557b19805346c5804c5505db987ed3",
       "version_major": 2,
       "version_minor": 0
      },
      "text/plain": [
       "HBox(children=(IntProgress(value=0, max=18), HTML(value='')))"
      ]
     },
     "metadata": {},
     "output_type": "display_data"
    },
    {
     "name": "stdout",
     "output_type": "stream",
     "text": [
      "47503\n",
      "https://www.immobiliare.it/affitto-case/Roma-provincia/?criterio=rilevanza\n",
      "579\n"
     ]
    },
    {
     "data": {
      "application/vnd.jupyter.widget-view+json": {
       "model_id": "df8cdba20cc443399702c04459b8f982",
       "version_major": 2,
       "version_minor": 0
      },
      "text/plain": [
       "HBox(children=(IntProgress(value=0, max=579), HTML(value='')))"
      ]
     },
     "metadata": {},
     "output_type": "display_data"
    }
   ],
   "source": [
    "annunci_list = []\n",
    "for provincia in province:\n",
    "    webpage= f\"https://www.immobiliare.it/affitto-case/{provincia}-provincia/?criterio=rilevanza\"\n",
    "    print(webpage)\n",
    "    response = requests.get(webpage)\n",
    "    doc = bs4.BeautifulSoup(response.text)\n",
    "    annunci = doc.find_all('li',class_=\"listing-item--tiny\")\n",
    "    tot_annunci = doc.select(\"span.count-ads\")[0].text\n",
    "    ult= (int(tot_annunci[0:tot_annunci.index(\" \")].replace(\".\",\"\"))//25)+1\n",
    "    print(ult)\n",
    "    for num in tqdm(range(1,ult+1)):\n",
    "        webpage = f\"https://www.immobiliare.it/affitto-case/{provincia}-provincia/?criterio=rilevanza&pag={num}\"\n",
    "        response = requests.get(webpage)\n",
    "        doc = bs4.BeautifulSoup(response.text)\n",
    "        annunci =  doc.find_all('li',class_=\"listing-item--tiny\")\n",
    "        for annuncio in annunci:\n",
    "            try:\n",
    "                annunci_list.append(parse_annuncio(annuncio))\n",
    "            except:\n",
    "                pass\n",
    "    print(len(annunci_list))"
   ]
  },
  {
   "cell_type": "code",
   "execution_count": 7,
   "metadata": {},
   "outputs": [
    {
     "data": {
      "text/html": [
       "<div>\n",
       "<style scoped>\n",
       "    .dataframe tbody tr th:only-of-type {\n",
       "        vertical-align: middle;\n",
       "    }\n",
       "\n",
       "    .dataframe tbody tr th {\n",
       "        vertical-align: top;\n",
       "    }\n",
       "\n",
       "    .dataframe thead th {\n",
       "        text-align: right;\n",
       "    }\n",
       "</style>\n",
       "<table border=\"1\" class=\"dataframe\">\n",
       "  <thead>\n",
       "    <tr style=\"text-align: right;\">\n",
       "      <th></th>\n",
       "      <th>descrizione_breve</th>\n",
       "      <th>id</th>\n",
       "      <th>link</th>\n",
       "      <th>prezzo</th>\n",
       "      <th>titolo</th>\n",
       "    </tr>\n",
       "  </thead>\n",
       "  <tbody>\n",
       "    <tr>\n",
       "      <th>0</th>\n",
       "      <td>\\nAffittasi a sciacca  appartamento zona croni...</td>\n",
       "      <td>74016662</td>\n",
       "      <td>https://www.immobiliare.it/annunci/74016662/</td>\n",
       "      <td>\\n                    € 330\\n</td>\n",
       "      <td>\\n\\n                        Trilocale via Cron...</td>\n",
       "    </tr>\n",
       "    <tr>\n",
       "      <th>1</th>\n",
       "      <td>\\nAppartamento nuovo arredato a sciacca zona s...</td>\n",
       "      <td>73246998</td>\n",
       "      <td>https://www.immobiliare.it/annunci/73246998/</td>\n",
       "      <td>\\n                    € 300\\n</td>\n",
       "      <td>\\n\\n                        Bilocale via Toro,...</td>\n",
       "    </tr>\n",
       "    <tr>\n",
       "      <th>2</th>\n",
       "      <td>\\nGrande e centrale appartamento\\nDisponibile ...</td>\n",
       "      <td>66368141</td>\n",
       "      <td>https://www.immobiliare.it/annunci/66368141/</td>\n",
       "      <td>\\n                    € 500\\n</td>\n",
       "      <td>\\n\\n                        Appartamento via P...</td>\n",
       "    </tr>\n",
       "    <tr>\n",
       "      <th>3</th>\n",
       "      <td>\\nCanicatti locasi appartamento zona ospedale\\...</td>\n",
       "      <td>70400376</td>\n",
       "      <td>https://www.immobiliare.it/annunci/70400376/</td>\n",
       "      <td>\\n                    € 350\\n</td>\n",
       "      <td>\\n\\n                        Appartamento viale...</td>\n",
       "    </tr>\n",
       "    <tr>\n",
       "      <th>4</th>\n",
       "      <td>\\nAffittasi a Sciacca Ufficio in pieno centro ...</td>\n",
       "      <td>73151922</td>\n",
       "      <td>https://www.immobiliare.it/annunci/73151922/</td>\n",
       "      <td>\\n                    € 670\\n</td>\n",
       "      <td>\\n\\n                        Appartamento via C...</td>\n",
       "    </tr>\n",
       "  </tbody>\n",
       "</table>\n",
       "</div>"
      ],
      "text/plain": [
       "                                   descrizione_breve        id  \\\n",
       "0  \\nAffittasi a sciacca  appartamento zona croni...  74016662   \n",
       "1  \\nAppartamento nuovo arredato a sciacca zona s...  73246998   \n",
       "2  \\nGrande e centrale appartamento\\nDisponibile ...  66368141   \n",
       "3  \\nCanicatti locasi appartamento zona ospedale\\...  70400376   \n",
       "4  \\nAffittasi a Sciacca Ufficio in pieno centro ...  73151922   \n",
       "\n",
       "                                           link  \\\n",
       "0  https://www.immobiliare.it/annunci/74016662/   \n",
       "1  https://www.immobiliare.it/annunci/73246998/   \n",
       "2  https://www.immobiliare.it/annunci/66368141/   \n",
       "3  https://www.immobiliare.it/annunci/70400376/   \n",
       "4  https://www.immobiliare.it/annunci/73151922/   \n",
       "\n",
       "                                          prezzo  \\\n",
       "0  \\n                    € 330\\n                   \n",
       "1  \\n                    € 300\\n                   \n",
       "2  \\n                    € 500\\n                   \n",
       "3  \\n                    € 350\\n                   \n",
       "4  \\n                    € 670\\n                   \n",
       "\n",
       "                                              titolo  \n",
       "0  \\n\\n                        Trilocale via Cron...  \n",
       "1  \\n\\n                        Bilocale via Toro,...  \n",
       "2  \\n\\n                        Appartamento via P...  \n",
       "3  \\n\\n                        Appartamento viale...  \n",
       "4  \\n\\n                        Appartamento via C...  "
      ]
     },
     "execution_count": 7,
     "metadata": {},
     "output_type": "execute_result"
    }
   ],
   "source": [
    "import pandas as pd\n",
    "ds_annunci = pd.DataFrame(annunci_list)\n",
    "ds_annunci.set_index(\"id\")\n",
    "ds_annunci.head()"
   ]
  },
  {
   "cell_type": "code",
   "execution_count": 8,
   "metadata": {},
   "outputs": [],
   "source": [
    "ds_annunci.to_csv(\"C:/Users/F013378/Desktop/affitti_immobiliare.csv\")"
   ]
  },
  {
   "cell_type": "code",
   "execution_count": 14,
   "metadata": {},
   "outputs": [
    {
     "data": {
      "text/plain": [
       "5"
      ]
     },
     "execution_count": 14,
     "metadata": {},
     "output_type": "execute_result"
    }
   ],
   "source": [
    "dettagli = []\n",
    "for annuncio_id, annuncio in ds_annunci.iterrows():\n",
    "    link = annuncio[\"link\"]\n",
    "    response = requests.get(link)\n",
    "    doc = bs4.BeautifulSoup(response.text)\n",
    "    descrizione = doc.select(\"div#description\")[0].text\n",
    "    superficie=0\n",
    "    try:\n",
    "        caratteristiche = doc.select(\"div.im-property__features ul.list-piped > li\")\n",
    "        for item in caratteristiche:\n",
    "            if item.select(\"div.features__label\")[0].text == \"superficie\": superficie=item.select(\"div>span.text-bold\")[0].text\n",
    "    except:\n",
    "        pass\n",
    "    indirizzo = doc.select(\"span.im-address__content\")[0].text\n",
    "    agenzia = doc.select(\"#down-contact-box div.contact-data div.profile__data > p.text-dark\")[0].text\n",
    "    dettagli.append({'id': annuncio_id, 'agenzia': agenzia, \n",
    "                     'superficie': superficie, 'indirizzo': indirizzo})\n",
    "len(dettagli)"
   ]
  },
  {
   "cell_type": "code",
   "execution_count": 15,
   "metadata": {},
   "outputs": [
    {
     "data": {
      "text/html": [
       "<div>\n",
       "<style scoped>\n",
       "    .dataframe tbody tr th:only-of-type {\n",
       "        vertical-align: middle;\n",
       "    }\n",
       "\n",
       "    .dataframe tbody tr th {\n",
       "        vertical-align: top;\n",
       "    }\n",
       "\n",
       "    .dataframe thead th {\n",
       "        text-align: right;\n",
       "    }\n",
       "</style>\n",
       "<table border=\"1\" class=\"dataframe\">\n",
       "  <thead>\n",
       "    <tr style=\"text-align: right;\">\n",
       "      <th></th>\n",
       "      <th>agenzia</th>\n",
       "      <th>id</th>\n",
       "      <th>indirizzo</th>\n",
       "      <th>superficie</th>\n",
       "    </tr>\n",
       "  </thead>\n",
       "  <tbody>\n",
       "    <tr>\n",
       "      <th>0</th>\n",
       "      <td>Agente immobiliare</td>\n",
       "      <td>0</td>\n",
       "      <td>\\n                    Via Cronio, Sciacca\\n   ...</td>\n",
       "      <td>120</td>\n",
       "    </tr>\n",
       "    <tr>\n",
       "      <th>1</th>\n",
       "      <td>Agente immobiliare</td>\n",
       "      <td>1</td>\n",
       "      <td>\\n                    Via Toro, Sciacca\\n     ...</td>\n",
       "      <td>60</td>\n",
       "    </tr>\n",
       "    <tr>\n",
       "      <th>2</th>\n",
       "      <td>Agente immobiliare</td>\n",
       "      <td>2</td>\n",
       "      <td>\\n                    Via Picone, Agrigento\\n ...</td>\n",
       "      <td>170</td>\n",
       "    </tr>\n",
       "    <tr>\n",
       "      <th>3</th>\n",
       "      <td>Agente immobiliare</td>\n",
       "      <td>3</td>\n",
       "      <td>\\n                    Viale Giudice Antonino S...</td>\n",
       "      <td>140</td>\n",
       "    </tr>\n",
       "    <tr>\n",
       "      <th>4</th>\n",
       "      <td>Agente immobiliare</td>\n",
       "      <td>4</td>\n",
       "      <td>\\n                    Via Conzo 1, Sciacca\\n  ...</td>\n",
       "      <td>90</td>\n",
       "    </tr>\n",
       "  </tbody>\n",
       "</table>\n",
       "</div>"
      ],
      "text/plain": [
       "              agenzia  id                                          indirizzo  \\\n",
       "0  Agente immobiliare   0  \\n                    Via Cronio, Sciacca\\n   ...   \n",
       "1  Agente immobiliare   1  \\n                    Via Toro, Sciacca\\n     ...   \n",
       "2  Agente immobiliare   2  \\n                    Via Picone, Agrigento\\n ...   \n",
       "3  Agente immobiliare   3  \\n                    Viale Giudice Antonino S...   \n",
       "4  Agente immobiliare   4  \\n                    Via Conzo 1, Sciacca\\n  ...   \n",
       "\n",
       "  superficie  \n",
       "0        120  \n",
       "1         60  \n",
       "2        170  \n",
       "3        140  \n",
       "4         90  "
      ]
     },
     "execution_count": 15,
     "metadata": {},
     "output_type": "execute_result"
    }
   ],
   "source": [
    "import pandas as pd\n",
    "ds_dettagli = pd.DataFrame(dettagli)\n",
    "ds_dettagli.set_index(\"id\")\n",
    "ds_dettagli.head()"
   ]
  },
  {
   "cell_type": "code",
   "execution_count": null,
   "metadata": {},
   "outputs": [],
   "source": [
    "ds_dettagli.to_csv(\"/home/master/dataset/immobiliare/immobiliare_dettagli.csv\")"
   ]
  }
 ],
 "metadata": {
  "kernelspec": {
   "display_name": "Python 3",
   "language": "python",
   "name": "python3"
  },
  "language_info": {
   "codemirror_mode": {
    "name": "ipython",
    "version": 3
   },
   "file_extension": ".py",
   "mimetype": "text/x-python",
   "name": "python",
   "nbconvert_exporter": "python",
   "pygments_lexer": "ipython3",
   "version": "3.7.3"
  }
 },
 "nbformat": 4,
 "nbformat_minor": 2
}
