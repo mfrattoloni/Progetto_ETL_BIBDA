{
 "cells": [
  {
   "cell_type": "code",
   "execution_count": 1,
   "metadata": {},
   "outputs": [],
   "source": [
    "import requests\n",
    "import bs4\n",
    "import csv\n",
    "from tqdm import tqdm_notebook as tqdm\n",
    "import json\n",
    "import pprint"
   ]
  },
  {
   "cell_type": "code",
   "execution_count": 92,
   "metadata": {},
   "outputs": [],
   "source": [
    "num=1\n",
    "webpage= f\"https://www.careerjet.it/wcerca/lavoro?s=analyst&l=Italia&lid=41162&b={num}\""
   ]
  },
  {
   "cell_type": "code",
   "execution_count": 93,
   "metadata": {},
   "outputs": [
    {
     "name": "stdout",
     "output_type": "stream",
     "text": [
      "https://www.careerjet.it/wcerca/lavoro?s=analyst&l=Italia&lid=41162&b=1\n"
     ]
    }
   ],
   "source": [
    "print(webpage)"
   ]
  },
  {
   "cell_type": "code",
   "execution_count": 94,
   "metadata": {},
   "outputs": [
    {
     "name": "stdout",
     "output_type": "stream",
     "text": [
      "Status: 200\n"
     ]
    }
   ],
   "source": [
    "response = requests.get(webpage)\n",
    "print(\"Status: \" + str(response.status_code))\n",
    "doc = bs4.BeautifulSoup(response.text)"
   ]
  },
  {
   "cell_type": "code",
   "execution_count": 95,
   "metadata": {},
   "outputs": [
    {
     "name": "stdout",
     "output_type": "stream",
     "text": [
      "88\n"
     ]
    }
   ],
   "source": [
    "annunci= doc.find_all('div',class_=\"job\")\n",
    "len(annunci)\n",
    "stringlen=doc.select(\"span.display_results\")[0].text\n",
    "ind=stringlen.find(\"su \") + 3\n",
    "ind2= stringlen.find(\" \",ind)\n",
    "numannunci=int(doc.select(\"span.display_results\")[0].text[ind:ind2])\n",
    "ult= numannunci//len(annunci)+1\n",
    "print(ult)"
   ]
  },
  {
   "cell_type": "code",
   "execution_count": 99,
   "metadata": {},
   "outputs": [
    {
     "name": "stdout",
     "output_type": "stream",
     "text": [
      "a_176c062cc9a6a797804c21e541279621\n"
     ]
    }
   ],
   "source": [
    "prova = doc.select(\"#container_176c062cc9a6a797804c21e541279621\")\n",
    "titolo = prova[0].select(\"a.title-company\")[0][\"id\"]\n",
    "link= \"https://www.careerjet.it\" + prova[0].select(\"a.title-company\")[0][\"href\"]\n",
    "luogo= prova[0].select(\"div.locations_compact\")[0].text\n",
    "print(titolo)"
   ]
  },
  {
   "cell_type": "code",
   "execution_count": 108,
   "metadata": {},
   "outputs": [],
   "source": [
    "def parse_annuncio(annuncio):\n",
    "    titolo = annuncio.select(\"a.title-company>p\")[0].text\n",
    "    _id= annuncio.select(\"a.title-company\")[0][\"id\"]\n",
    "    link= \"https://www.careerjet.it\" + prova[0].select(\"a.title-company\")[0][\"href\"]\n",
    "    try:\n",
    "        azienda= annuncio.select(\"div.company_compact\")[0].text\n",
    "    except:\n",
    "        azienda=\"\"\n",
    "    try:\n",
    "        luogo= annuncio.select(\"div.locations_compact\")[0].text\n",
    "    except:\n",
    "        luogo=\"\"\n",
    "    return {'_id': _id,'titolo': titolo, 'link': link, 'azienda': azienda, 'luogo': luogo}"
   ]
  },
  {
   "cell_type": "code",
   "execution_count": 109,
   "metadata": {},
   "outputs": [
    {
     "data": {
      "application/vnd.jupyter.widget-view+json": {
       "model_id": "2b701020a12c4a6eb1b63dc38ab30413",
       "version_major": 2,
       "version_minor": 0
      },
      "text/plain": [
       "HBox(children=(IntProgress(value=0, max=88), HTML(value='')))"
      ]
     },
     "metadata": {},
     "output_type": "display_data"
    },
    {
     "name": "stdout",
     "output_type": "stream",
     "text": [
      "\n"
     ]
    },
    {
     "data": {
      "text/plain": [
       "1755"
      ]
     },
     "execution_count": 109,
     "metadata": {},
     "output_type": "execute_result"
    }
   ],
   "source": [
    "annunci_list = []\n",
    "for num in tqdm(range(1,(ult*20)+1,20)):\n",
    "    webpage= f\"https://www.careerjet.it/wcerca/lavoro?s=analyst&l=Italia&lid=41162&b={num}\"\n",
    "    response = requests.get(webpage)\n",
    "    doc = bs4.BeautifulSoup(response.text)\n",
    "    annunci= doc.find_all('div',class_=\"job\")\n",
    "    for annuncio in annunci:\n",
    "        annunci_list.append(parse_annuncio(annuncio))\n",
    "len(annunci_list)"
   ]
  },
  {
   "cell_type": "code",
   "execution_count": 110,
   "metadata": {},
   "outputs": [
    {
     "data": {
      "text/html": [
       "<div>\n",
       "<style scoped>\n",
       "    .dataframe tbody tr th:only-of-type {\n",
       "        vertical-align: middle;\n",
       "    }\n",
       "\n",
       "    .dataframe tbody tr th {\n",
       "        vertical-align: top;\n",
       "    }\n",
       "\n",
       "    .dataframe thead th {\n",
       "        text-align: right;\n",
       "    }\n",
       "</style>\n",
       "<table border=\"1\" class=\"dataframe\">\n",
       "  <thead>\n",
       "    <tr style=\"text-align: right;\">\n",
       "      <th></th>\n",
       "      <th>_id</th>\n",
       "      <th>azienda</th>\n",
       "      <th>link</th>\n",
       "      <th>luogo</th>\n",
       "      <th>titolo</th>\n",
       "    </tr>\n",
       "  </thead>\n",
       "  <tbody>\n",
       "    <tr>\n",
       "      <th>0</th>\n",
       "      <td>a_176c062cc9a6a797804c21e541279621</td>\n",
       "      <td>Randstad</td>\n",
       "      <td>https://www.careerjet.it/job/176c062cc9a6a7978...</td>\n",
       "      <td>\\nMilano\\n</td>\n",
       "      <td>Stage curricolare Sales Analyst</td>\n",
       "    </tr>\n",
       "    <tr>\n",
       "      <th>1</th>\n",
       "      <td>a_b6e4b1b085a30809373fe6edc18838f6</td>\n",
       "      <td>Difa Cooper S.p.A.</td>\n",
       "      <td>https://www.careerjet.it/job/176c062cc9a6a7978...</td>\n",
       "      <td>\\nMilano\\n</td>\n",
       "      <td>BUSINESS ANALYST</td>\n",
       "    </tr>\n",
       "    <tr>\n",
       "      <th>2</th>\n",
       "      <td>a_d1aea5ea5ef0794ba0055979842aad0c</td>\n",
       "      <td>Page Personnel</td>\n",
       "      <td>https://www.careerjet.it/job/176c062cc9a6a7978...</td>\n",
       "      <td>\\nMilano\\n</td>\n",
       "      <td>CATEGORIE PROTETTE - Business Analyst/Consultant</td>\n",
       "    </tr>\n",
       "    <tr>\n",
       "      <th>3</th>\n",
       "      <td>a_42dd69b095e34b78a89ab27193248008</td>\n",
       "      <td>Randstad</td>\n",
       "      <td>https://www.careerjet.it/job/176c062cc9a6a7978...</td>\n",
       "      <td>\\nFlero, Brescia\\n</td>\n",
       "      <td>back office analyst</td>\n",
       "    </tr>\n",
       "    <tr>\n",
       "      <th>4</th>\n",
       "      <td>a_80fae76323cb3a0529602883846ce437</td>\n",
       "      <td>Randstad</td>\n",
       "      <td>https://www.careerjet.it/job/176c062cc9a6a7978...</td>\n",
       "      <td>\\nBologna\\n</td>\n",
       "      <td>Business Analyst</td>\n",
       "    </tr>\n",
       "  </tbody>\n",
       "</table>\n",
       "</div>"
      ],
      "text/plain": [
       "                                  _id             azienda  \\\n",
       "0  a_176c062cc9a6a797804c21e541279621            Randstad   \n",
       "1  a_b6e4b1b085a30809373fe6edc18838f6  Difa Cooper S.p.A.   \n",
       "2  a_d1aea5ea5ef0794ba0055979842aad0c      Page Personnel   \n",
       "3  a_42dd69b095e34b78a89ab27193248008            Randstad   \n",
       "4  a_80fae76323cb3a0529602883846ce437            Randstad   \n",
       "\n",
       "                                                link               luogo  \\\n",
       "0  https://www.careerjet.it/job/176c062cc9a6a7978...          \\nMilano\\n   \n",
       "1  https://www.careerjet.it/job/176c062cc9a6a7978...          \\nMilano\\n   \n",
       "2  https://www.careerjet.it/job/176c062cc9a6a7978...          \\nMilano\\n   \n",
       "3  https://www.careerjet.it/job/176c062cc9a6a7978...  \\nFlero, Brescia\\n   \n",
       "4  https://www.careerjet.it/job/176c062cc9a6a7978...         \\nBologna\\n   \n",
       "\n",
       "                                             titolo  \n",
       "0                   Stage curricolare Sales Analyst  \n",
       "1                                  BUSINESS ANALYST  \n",
       "2  CATEGORIE PROTETTE - Business Analyst/Consultant  \n",
       "3                               back office analyst  \n",
       "4                                  Business Analyst  "
      ]
     },
     "execution_count": 110,
     "metadata": {},
     "output_type": "execute_result"
    }
   ],
   "source": [
    "import pandas as pd\n",
    "ds_annunci = pd.DataFrame(annunci_list)\n",
    "ds_annunci.set_index(\"_id\")\n",
    "ds_annunci.head()"
   ]
  },
  {
   "cell_type": "code",
   "execution_count": 111,
   "metadata": {},
   "outputs": [
    {
     "name": "stdout",
     "output_type": "stream",
     "text": [
      "<class 'pandas.core.frame.DataFrame'>\n",
      "RangeIndex: 1755 entries, 0 to 1754\n",
      "Data columns (total 5 columns):\n",
      "_id        1755 non-null object\n",
      "azienda    1755 non-null object\n",
      "link       1755 non-null object\n",
      "luogo      1755 non-null object\n",
      "titolo     1755 non-null object\n",
      "dtypes: object(5)\n",
      "memory usage: 68.6+ KB\n"
     ]
    }
   ],
   "source": [
    "ds_annunci.info()"
   ]
  },
  {
   "cell_type": "code",
   "execution_count": 112,
   "metadata": {},
   "outputs": [],
   "source": [
    "ds_annunci.to_csv(\"C:/Users/F013378/Desktop/analyst_annunci.csv\")"
   ]
  },
  {
   "cell_type": "code",
   "execution_count": null,
   "metadata": {},
   "outputs": [],
   "source": []
  }
 ],
 "metadata": {
  "kernelspec": {
   "display_name": "Python 3",
   "language": "python",
   "name": "python3"
  },
  "language_info": {
   "codemirror_mode": {
    "name": "ipython",
    "version": 3
   },
   "file_extension": ".py",
   "mimetype": "text/x-python",
   "name": "python",
   "nbconvert_exporter": "python",
   "pygments_lexer": "ipython3",
   "version": "3.7.3"
  }
 },
 "nbformat": 4,
 "nbformat_minor": 2
}
